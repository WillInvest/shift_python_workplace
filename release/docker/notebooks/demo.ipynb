{
 "cells": [
  {
   "cell_type": "code",
   "execution_count": null,
   "metadata": {},
   "outputs": [],
   "source": [
    "import sys\n",
    "import time\n",
    "\n",
    "import shift"
   ]
  },
  {
   "cell_type": "code",
   "execution_count": null,
   "metadata": {},
   "outputs": [],
   "source": [
    "# create trader object\n",
    "trader = shift.Trader(\"democlient\")"
   ]
  },
  {
   "cell_type": "code",
   "execution_count": null,
   "metadata": {},
   "outputs": [],
   "source": [
    "# connect\n",
    "trader.connect(\"initiator.cfg\", \"password\")"
   ]
  },
  {
   "cell_type": "code",
   "execution_count": null,
   "metadata": {},
   "outputs": [],
   "source": [
    "# subscribe to all available order books\n",
    "trader.sub_all_order_book()"
   ]
  },
  {
   "cell_type": "code",
   "execution_count": null,
   "metadata": {},
   "outputs": [],
   "source": [
    "# submit a limit buy order by indicating order type, symbol, size, and limit price.\n",
    "limit_buy = shift.Order(shift.Order.LIMIT_BUY, \"AAPL\", 1, 10.00)\n",
    "trader.submit_order(limit_buy)"
   ]
  },
  {
   "cell_type": "code",
   "execution_count": null,
   "metadata": {},
   "outputs": [],
   "source": [
    "# submit 2 limit buy orders by indicating order type, symbol, size, and limit price.\n",
    "aapl_limit_buy = shift.Order(shift.Order.LIMIT_BUY, \"AAPL\", 10, 10.00)\n",
    "trader.submit_order(aapl_limit_buy)\n",
    "\n",
    "xom_limit_buy = shift.Order(shift.Order.LIMIT_BUY, \"XOM\", 10, 10.00)\n",
    "trader.submit_order(xom_limit_buy)"
   ]
  },
  {
   "cell_type": "code",
   "execution_count": null,
   "metadata": {},
   "outputs": [],
   "source": [
    "# print the local bid order book for AAPL\n",
    "print(\"AAPL:\")\n",
    "print(\"  Price\\t\\tSize\\t  Dest\\t\\tTime\")\n",
    "for order in trader.get_order_book(\"AAPL\", shift.OrderBookType.LOCAL_BID):\n",
    "    print(\n",
    "        \"%7.2f\\t\\t%4d\\t%6s\\t\\t%19s\"\n",
    "        % (order.price, order.size, order.destination, order.time)\n",
    "    )"
   ]
  },
  {
   "cell_type": "code",
   "execution_count": null,
   "metadata": {},
   "outputs": [],
   "source": [
    "# print the local bid order book for XOM\n",
    "print(\"XOM:\")\n",
    "print(\"  Price\\t\\tSize\\t  Dest\\t\\tTime\")\n",
    "for order in trader.get_order_book(\"XOM\", shift.OrderBookType.LOCAL_BID):\n",
    "    print(\n",
    "        \"%7.2f\\t\\t%4d\\t%6s\\t\\t%19s\"\n",
    "        % (order.price, order.size, order.destination, order.time)\n",
    "    )"
   ]
  },
  {
   "cell_type": "code",
   "execution_count": null,
   "metadata": {},
   "outputs": [],
   "source": [
    "# print all current waiting orders information\n",
    "print(\n",
    "    \"Symbol\\t\\t    Type\\t  Price\\t\\tSize\\t    Executed\\t\\t\\t Status\"\n",
    ")\n",
    "for order in trader.get_waiting_list():\n",
    "    print(\n",
    "        \"%6s\\t%16s\\t%7.2f\\t\\t%4d\\t\\t%4d\\t%23s\"\n",
    "        % (\n",
    "            order.symbol,\n",
    "            order.type,\n",
    "            price,\n",
    "            order.size,\n",
    "            order.executed_size,\n",
    "            order.status,\n",
    "        )\n",
    "    )"
   ]
  },
  {
   "cell_type": "code",
   "execution_count": null,
   "metadata": {},
   "outputs": [],
   "source": [
    "# cancel all pending orders\n",
    "trader.cancel_all_pending_orders()"
   ]
  },
  {
   "cell_type": "code",
   "execution_count": null,
   "metadata": {},
   "outputs": [],
   "source": [
    "# print all current waiting orders information\n",
    "print(\n",
    "    \"Symbol\\t\\t    Type\\t  Price\\t\\tSize\\t    Executed\\t\\t\\t Status\"\n",
    ")\n",
    "for order in trader.get_waiting_list():\n",
    "    print(\n",
    "        \"%6s\\t%16s\\t%7.2f\\t\\t%4d\\t\\t%4d\\t%23s\"\n",
    "        % (\n",
    "            order.symbol,\n",
    "            order.type,\n",
    "            price,\n",
    "            order.size,\n",
    "            order.executed_size,\n",
    "            order.status,\n",
    "        )\n",
    "    )"
   ]
  },
  {
   "cell_type": "code",
   "execution_count": null,
   "metadata": {},
   "outputs": [],
   "source": [
    "# submit 2 market buy orders\n",
    "aapl_market_buy = shift.Order(shift.Order.MARKET_BUY, \"AAPL\", 1)\n",
    "trader.submit_order(aapl_market_buy)\n",
    "\n",
    "xom_market_buy = shift.Order(shift.Order.MARKET_BUY, \"XOM\", 1)\n",
    "trader.submit_order(xom_market_buy)"
   ]
  },
  {
   "cell_type": "code",
   "execution_count": null,
   "metadata": {},
   "outputs": [],
   "source": [
    "# print current portfolio summary information\n",
    "print(\"Buying Power\\tTotal Shares\\tTotal P&L\\tTimestamp\")\n",
    "print(\n",
    "    \"%12.2f\\t%12d\\t%9.2f\\t%26s\"\n",
    "    % (\n",
    "        trader.get_portfolio_summary().get_total_bp(),\n",
    "        trader.get_portfolio_summary().get_total_shares(),\n",
    "        trader.get_portfolio_summary().get_total_realized_pl(),\n",
    "        trader.get_portfolio_summary().get_timestamp(),\n",
    "    )\n",
    ")"
   ]
  },
  {
   "cell_type": "code",
   "execution_count": null,
   "metadata": {},
   "outputs": [],
   "source": [
    "# print current portfolio items information\n",
    "print(\"Symbol\\t\\tShares\\t    Price\\t      P&L\\tTimestamp\")\n",
    "for item in trader.get_portfolio_items().values():\n",
    "    print(\n",
    "        \"%6s\\t\\t%6d\\t%9.2f\\t%9.2f\\t%26s\"\n",
    "        % (\n",
    "            item.get_symbol(),\n",
    "            item.get_shares(),\n",
    "            item.get_price(),\n",
    "            item.get_realized_pl(),\n",
    "            item.get_timestamp(),\n",
    "        )\n",
    "    )"
   ]
  },
  {
   "cell_type": "code",
   "execution_count": null,
   "metadata": {},
   "outputs": [],
   "source": [
    "# submit 2 market sell orders\n",
    "aapl_market_sell = shift.Order(shift.Order.MARKET_SELL, \"AAPL\", 1)\n",
    "trader.submit_order(aapl_market_sell)\n",
    "\n",
    "xom_market_sell = shift.Order(shift.Order.MARKET_SELL, \"XOM\", 1)\n",
    "trader.submit_order(xom_market_sell)"
   ]
  },
  {
   "cell_type": "code",
   "execution_count": null,
   "metadata": {},
   "outputs": [],
   "source": [
    "# print current portfolio summary information\n",
    "print(\"Buying Power\\tTotal Shares\\tTotal P&L\\tTimestamp\")\n",
    "print(\n",
    "    \"%12.2f\\t%12d\\t%9.2f\\t%26s\"\n",
    "    % (\n",
    "        trader.get_portfolio_summary().get_total_bp(),\n",
    "        trader.get_portfolio_summary().get_total_shares(),\n",
    "        trader.get_portfolio_summary().get_total_realized_pl(),\n",
    "        trader.get_portfolio_summary().get_timestamp(),\n",
    "    )\n",
    ")"
   ]
  },
  {
   "cell_type": "code",
   "execution_count": null,
   "metadata": {},
   "outputs": [],
   "source": [
    "# print current portfolio items information\n",
    "print(\"Symbol\\t\\tShares\\t    Price\\t      P&L\\tTimestamp\")\n",
    "for item in trader.get_portfolio_items().values():\n",
    "    print(\n",
    "        \"%6s\\t\\t%6d\\t%9.2f\\t%9.2f\\t%26s\"\n",
    "        % (\n",
    "            item.get_symbol(),\n",
    "            item.get_shares(),\n",
    "            item.get_price(),\n",
    "            item.get_realized_pl(),\n",
    "            item.get_timestamp(),\n",
    "        )\n",
    "    )"
   ]
  },
  {
   "cell_type": "code",
   "execution_count": null,
   "metadata": {},
   "outputs": [],
   "source": [
    "# print all submitted orders information\n",
    "print(\n",
    "    \"Symbol\\t\\t    Type\\t  Price\\t\\tSize\\t    Executed\\t\\t\\t Status\"\n",
    ")\n",
    "for order in trader.get_submitted_orders():\n",
    "    if order.status == shift.Order.Status.FILLED:\n",
    "        price = order.executed_price\n",
    "    else:\n",
    "        price = order.price\n",
    "    print(\n",
    "        \"%6s\\t%16s\\t%7.2f\\t\\t%4d\\t\\t%4d\\t%23s\"\n",
    "        % (\n",
    "            order.symbol,\n",
    "            order.type,\n",
    "            price,\n",
    "            order.size,\n",
    "            order.executed_size,\n",
    "            order.status,\n",
    "        )\n",
    "    )"
   ]
  },
  {
   "cell_type": "code",
   "execution_count": null,
   "metadata": {},
   "outputs": [],
   "source": [
    "# print the global bid order book for AAPL\n",
    "print(\"  Price\\t\\tSize\\t  Dest\\t\\tTime\")\n",
    "for order in trader.get_order_book(\"AAPL\", shift.OrderBookType.GLOBAL_BID, 5):\n",
    "    print(\n",
    "        \"%7.2f\\t\\t%4d\\t%6s\\t\\t%19s\"\n",
    "        % (order.price, order.size, order.destination, order.time)\n",
    "    )"
   ]
  },
  {
   "cell_type": "code",
   "execution_count": null,
   "metadata": {},
   "outputs": [],
   "source": [
    "# disconnect\n",
    "trader.disconnect()"
   ]
  },
  {
   "cell_type": "code",
   "execution_count": null,
   "metadata": {},
   "outputs": [],
   "source": []
  }
 ],
 "metadata": {
  "kernelspec": {
   "display_name": "Python 3",
   "language": "python",
   "name": "python3"
  },
  "language_info": {
   "codemirror_mode": {
    "name": "ipython",
    "version": 3
   },
   "file_extension": ".py",
   "mimetype": "text/x-python",
   "name": "python",
   "nbconvert_exporter": "python",
   "pygments_lexer": "ipython3",
   "version": "3.7.4"
  }
 },
 "nbformat": 4,
 "nbformat_minor": 2
}
